{
  "metadata": {
    "kernelspec": {
      "name": "python",
      "display_name": "Python (Pyodide)",
      "language": "python"
    },
    "language_info": {
      "codemirror_mode": {
        "name": "python",
        "version": 3
      },
      "file_extension": ".py",
      "mimetype": "text/x-python",
      "name": "python",
      "nbconvert_exporter": "python",
      "pygments_lexer": "ipython3",
      "version": "3.8"
    }
  },
  "nbformat_minor": 5,
  "nbformat": 4,
  "cells": [
    {
      "id": "41178610-6c5e-4824-a4d6-66c05511a8b7",
      "cell_type": "markdown",
      "source": "# Data Science Tools and Ecosystem",
      "metadata": {}
    },
    {
      "id": "9fdcada1-f7c7-438e-a726-6c49da74fa3f",
      "cell_type": "markdown",
      "source": "In this notebook, Data Science Tools and Ecosystem are summarized.",
      "metadata": {}
    },
    {
      "id": "5e9dd8f8-f0f2-4d1e-b337-c37dfa64d3cd",
      "cell_type": "markdown",
      "source": "Some of the popular languages that Data Scientists use are:\n\n1. Python  \n2. R  \n3. SQL  \n4. Julia",
      "metadata": {}
    },
    {
      "id": "446cfed4-ff0c-4727-8dc3-7f2d1be60461",
      "cell_type": "markdown",
      "source": "Some of the commonly used libraries used by Data Scientists include:\n\n1. Pandas  \n2. NumPy  \n3. Matplotlib  \n4. Scikit-learn",
      "metadata": {}
    },
    {
      "id": "fbb30401-7aa5-4af0-a83b-4f263378aa08",
      "cell_type": "markdown",
      "source": "| Data Science Tools |\n|--------------------|\n| Jupyter Notebook   |\n| RStudio            |\n| VS Code            |",
      "metadata": {}
    },
    {
      "id": "81eb6e0b-37cc-4537-8beb-693976f48a30",
      "cell_type": "markdown",
      "source": "### Below are a few examples of evaluating arithmetic expressions in Python.",
      "metadata": {}
    },
    {
      "id": "6f7db4e5-791e-45cc-8573-cf1d47047ffc",
      "cell_type": "code",
      "source": "# This is a simple arithmetic expression to multiply then add integers\n(3 * 4) + 5",
      "metadata": {
        "trusted": true
      },
      "outputs": [
        {
          "execution_count": 9,
          "output_type": "execute_result",
          "data": {
            "text/plain": "17"
          },
          "metadata": {}
        }
      ],
      "execution_count": 9
    },
    {
      "id": "ec074ac9-aff2-4d13-968d-25014e70eb20",
      "cell_type": "code",
      "source": "# This will convert 200 minutes to hours by dividing by 60\n200 / 60",
      "metadata": {
        "trusted": true
      },
      "outputs": [
        {
          "execution_count": 10,
          "output_type": "execute_result",
          "data": {
            "text/plain": "3.3333333333333335"
          },
          "metadata": {}
        }
      ],
      "execution_count": 10
    },
    {
      "id": "ed1c3e97-0f19-4373-a298-14b5e8e0dc0a",
      "cell_type": "markdown",
      "source": "**Objectives:**\n- List popular languages for Data Science\n- List commonly used libraries in Data Science\n- Create tables in markdown\n- Perform arithmetic operations in Python\n- Convert units using Python code",
      "metadata": {}
    },
    {
      "id": "54a96939-9c44-4b97-b4b3-dadcffb46740",
      "cell_type": "markdown",
      "source": "## Author\nPannawich Chaisil",
      "metadata": {}
    }
  ]
}